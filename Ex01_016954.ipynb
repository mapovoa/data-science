{
  "cells": [
    {
      "cell_type": "markdown",
      "metadata": {
        "id": "iM_6YPPL9h5Z"
      },
      "source": [
        "Nome:\n",
        "\n",
        "RA:\n",
        "\n",
        "Curso:\n",
        "\n"
      ]
    },
    {
      "cell_type": "markdown",
      "metadata": {
        "id": "YtINjzumUi4s"
      },
      "source": [
        "# Ex01 - Aprendendo Numpy\n"
      ]
    },
    {
      "cell_type": "code",
      "execution_count": null,
      "metadata": {
        "id": "4kzYCDqX9h5b"
      },
      "outputs": [],
      "source": [
        "# Importando as bibliotecas que serão utilizadas\n",
        "import numpy as np\n",
        "%matplotlib inline\n",
        "import matplotlib.pyplot as plt\n",
        "from PIL import Image"
      ]
    },
    {
      "cell_type": "code",
      "execution_count": null,
      "metadata": {
        "id": "XV-6qRWE9h5c"
      },
      "outputs": [],
      "source": [
        "# Conexão do colab com o drive\n",
        "from google.colab import drive\n",
        "drive.mount('/content/gdrive')"
      ]
    },
    {
      "cell_type": "markdown",
      "metadata": {
        "id": "o-W-I1kiT-8G"
      },
      "source": [
        "## Parte 1 - Exercitando o uso do Numpy"
      ]
    },
    {
      "cell_type": "markdown",
      "metadata": {
        "id": "HFhzTar2Ui4v"
      },
      "source": [
        "### Visualizando arrays em forma de imagem"
      ]
    },
    {
      "cell_type": "code",
      "execution_count": null,
      "metadata": {
        "colab": {
          "base_uri": "https://localhost:8080/"
        },
        "id": "lyw-0E6yUi4v",
        "outputId": "e980c6dc-cdf1-4b8f-dd70-5d77c207047e"
      },
      "outputs": [
        {
          "name": "stdout",
          "output_type": "stream",
          "text": [
            "Imagem constante:\n",
            " [[1. 1. 1. ... 1. 1. 1.]\n",
            " [1. 1. 1. ... 1. 1. 1.]\n",
            " [1. 1. 1. ... 1. 1. 1.]\n",
            " ...\n",
            " [1. 1. 1. ... 1. 1. 1.]\n",
            " [1. 1. 1. ... 1. 1. 1.]\n",
            " [1. 1. 1. ... 1. 1. 1.]]\n",
            "Dimensões da imagem: (100, 120)\n"
          ]
        }
      ],
      "source": [
        "f = np.ones((100,120))\n",
        "print(\"Imagem constante:\\n\",f)\n",
        "print(\"Dimensões da imagem:\",f.shape)"
      ]
    },
    {
      "cell_type": "code",
      "execution_count": null,
      "metadata": {
        "colab": {
          "base_uri": "https://localhost:8080/",
          "height": 298
        },
        "id": "_c7eUOHlUi4x",
        "outputId": "6ee79046-6ba0-467e-9c5b-507e317037b8"
      },
      "outputs": [
        {
          "data": {
            "text/plain": [
              "<matplotlib.colorbar.Colorbar at 0x2124fa68f90>"
            ]
          },
          "execution_count": 3,
          "metadata": {},
          "output_type": "execute_result"
        },
        {
          "data": {
            "image/png": "[encoded data removed]",
            "text/plain": [
              "<Figure size 500x400 with 2 Axes>"
            ]
          },
          "metadata": {},
          "output_type": "display_data"
        }
      ],
      "source": [
        "plt.figure(figsize=(5, 4))\n",
        "plt.imshow(f,cmap='gray')\n",
        "plt.title('Imagem constante')\n",
        "plt.colorbar()"
      ]
    },
    {
      "cell_type": "markdown",
      "metadata": {
        "id": "_vDIgFwYTXzP"
      },
      "source": [
        "## Parte 2 - Manipulando arrays com Numpy\n",
        "\n"
      ]
    },
    {
      "cell_type": "markdown",
      "metadata": {
        "id": "OtRAq-XPTn07"
      },
      "source": [
        "Nesta seção, serão abordados os métodos empregados nos tutoriais disponíveis em [\"Aprendendo Numpy\"](https://github.com/lrittner/Computacao-Visual/blob/master/tutoriais/02_Aprendendo_Numpy.ipynb).\n",
        "\n",
        "**Note que os arrays (as imagens) NUNCA devem ser \"varridos\" elemento a elemento (pixel a pixel)! Ou seja, ao invés de acessar individualmente cada posição de um array usando *for*, deve-se utilizar o fatiamento (slicing) e as funções de manipulação de array fornecidas pelo Numpy.**"
      ]
    },
    {
      "cell_type": "markdown",
      "metadata": {
        "id": "k_cZ4ps0Z3rT"
      },
      "source": [
        "### Exercício 2.1"
      ]
    },
    {
      "cell_type": "markdown",
      "metadata": {
        "id": "jKpq0f_3Ue83"
      },
      "source": [
        "**a)** Crie um array do numpy, **a**, formado apenas por elementos \"1\", de tipo \"int16\", com 5 linhas e 3 colunas. Printe o array criado;"
      ]
    },
    {
      "cell_type": "code",
      "execution_count": null,
      "metadata": {
        "id": "vJl90QuiVrVw"
      },
      "outputs": [],
      "source": [
        "# Seu código aqui"
      ]
    },
    {
      "cell_type": "markdown",
      "metadata": {
        "id": "w7KelNqGVr-F"
      },
      "source": [
        "**b)** Crie um novo array **b** a partir do array **a**. Altere o elemento da 3ª linha e 2ª coluna do array **b** para zero (0), sem que o array **a** seja alterado. Comente a metodologia empregada e printe os arrays **a** e **b**;"
      ]
    },
    {
      "cell_type": "code",
      "execution_count": null,
      "metadata": {
        "id": "eotdHqZFWG6n"
      },
      "outputs": [],
      "source": [
        "# Seu código aqui"
      ]
    },
    {
      "cell_type": "markdown",
      "metadata": {
        "id": "NJOyTWBZ9h5f"
      },
      "source": [
        "**c)** Muitas vezes, estamos interessados em manipular pixels ou regiões específicas de uma imagem. Podemos utilizar o fatiamento (slicing) para criar um array auxiliar dos pixels que queremos manipular. Assim, ao modificar o array auxiliar, apenas os pixels de interesse serão alterados no array original. Para exercitar esse processo, altere o valor de todos os elementos da 2ª coluna do array **b** para 2, utilizando o fatiamento (slicing) e um array auxiliar **c**.  Comente a metodologia empregada e printe os arrays **b** e **c**;"
      ]
    },
    {
      "cell_type": "code",
      "execution_count": null,
      "metadata": {
        "id": "a3e-ElKkXc-p"
      },
      "outputs": [],
      "source": [
        "# Seu código aqui"
      ]
    },
    {
      "cell_type": "markdown",
      "metadata": {
        "id": "B7A683XvZ-Dc"
      },
      "source": [
        "### Exercício 2.2\n",
        "\n"
      ]
    },
    {
      "cell_type": "markdown",
      "metadata": {
        "id": "0suXWMvmaDiq"
      },
      "source": [
        "**a)** Crie um array do numpy, **d**, formado por 21 elementos sequenciais, com valor inicial 0, valor final 100 e passo 5. Printe o array criado e comente a metodologia utilizada;"
      ]
    },
    {
      "cell_type": "code",
      "execution_count": null,
      "metadata": {
        "id": "QI2HC8SUbRAm"
      },
      "outputs": [],
      "source": [
        "# Seu código aqui"
      ]
    },
    {
      "cell_type": "markdown",
      "metadata": {
        "id": "s59pBLm8bszk"
      },
      "source": [
        "**b)** Altere o array **d** para que este possua 7 linhas e 3 colunas. Printe o array resultante e comente a metodologia utilizada;"
      ]
    },
    {
      "cell_type": "code",
      "execution_count": null,
      "metadata": {
        "id": "KV4aP8eAbr4_"
      },
      "outputs": [],
      "source": [
        "# Seu código aqui"
      ]
    },
    {
      "cell_type": "markdown",
      "metadata": {
        "id": "1uaiRjh5eUxZ"
      },
      "source": [
        "**c)** Utilizando fatiamento, efetue a inversão dos elementos do array **d** (primeiro elemento [0,0] vira o último [6,2], segundo elemento [0,1] vira o penúltimo [6,1], ...) sem alterar o shape original do array. Printe o array resultante e comente a metodologia utilizada;"
      ]
    },
    {
      "cell_type": "code",
      "execution_count": null,
      "metadata": {
        "id": "m3Jo40jvekOk"
      },
      "outputs": [],
      "source": [
        "# Seu código aqui"
      ]
    },
    {
      "cell_type": "markdown",
      "metadata": {
        "id": "GMRsUlg-iKxm"
      },
      "source": [
        "**d)** Utilizando fatiamento no array resultante no item anterior, printe apenas os elementos da 4ª à 5ª linhas e da 2ª à 3ª colunas.  Comente a metodologia utilizada."
      ]
    },
    {
      "cell_type": "code",
      "execution_count": null,
      "metadata": {
        "id": "GLxbKKcaiJlB"
      },
      "outputs": [],
      "source": [
        "# Seu código aqui"
      ]
    },
    {
      "cell_type": "markdown",
      "metadata": {
        "id": "_h3HVd-w9h5g"
      },
      "source": [
        "**e)** Altere o array **d** para que ele volte a possuir apenas uma dimensão. Printe o array resultante e comente a metodologia utilizada."
      ]
    },
    {
      "cell_type": "code",
      "execution_count": null,
      "metadata": {
        "id": "82-pp16y9h5g"
      },
      "outputs": [],
      "source": [
        "# Seu código aqui"
      ]
    },
    {
      "cell_type": "markdown",
      "metadata": {
        "id": "WNAmIzl8lJnB"
      },
      "source": [
        "### Exercício 2.3"
      ]
    },
    {
      "cell_type": "markdown",
      "metadata": {
        "id": "fvQjE07olNT3"
      },
      "source": [
        "**a)** Crie um array do numpy, **e**, formado por 35 elementos sequenciais, com:\n",
        "\n",
        "- valor inicial 0;\n",
        "- valor final 34;\n",
        "- passo 1;\n",
        "- shape (5,7).\n",
        "\n",
        "Printe o array criado, seu shape e comente a metodologia utilizada;"
      ]
    },
    {
      "cell_type": "code",
      "execution_count": null,
      "metadata": {
        "id": "ULw_XlJrlccS"
      },
      "outputs": [],
      "source": [
        "# Seu código aqui"
      ]
    },
    {
      "cell_type": "markdown",
      "metadata": {
        "id": "3_dNSbW0lpJ8"
      },
      "source": [
        "**b)** Utilize um array booleano e indexação para printar apenas os elementos do array **e** que são maiores que 20. Comente a metodologia utilizada."
      ]
    },
    {
      "cell_type": "code",
      "execution_count": null,
      "metadata": {
        "id": "AF-u7y9tmyaS"
      },
      "outputs": [],
      "source": [
        "# Seu código aqui"
      ]
    },
    {
      "cell_type": "markdown",
      "metadata": {
        "id": "ecPXEkB5oP9h"
      },
      "source": [
        "**c)** Utilize um array booleano e indexação para printar apenas as colunas do array **e** cuja soma dos elementos resulte em um valor par. Comente a metodologia utilizada."
      ]
    },
    {
      "cell_type": "code",
      "execution_count": null,
      "metadata": {
        "id": "aKWnIetUoPP-"
      },
      "outputs": [],
      "source": [
        "# Seu código aqui"
      ]
    },
    {
      "cell_type": "markdown",
      "metadata": {
        "id": "GxpElKJsxgNF"
      },
      "source": [
        "### Exercício 2.4\n",
        "\n"
      ]
    },
    {
      "cell_type": "markdown",
      "metadata": {
        "id": "DwWkABHIxiIX"
      },
      "source": [
        "Crie uma função que tenha como entradas:\n",
        "- Inteiro **m** que corresponde às linhas de uma matriz;\n",
        "- Inteiro **n** que corresponde às colunas de uma matriz;\n",
        "\n",
        "e que retorne:\n",
        "- Uma matriz **X** de shape (m, n), em que cada elemento X[i,j] seja a distância Euclidiana entre a posição [i,j] e a posição [0,0].\n",
        "\n",
        "Dica: criar novas matrizes com as funções [*np.meshgrid*](https://github.com/lrittner/Computacao-Visual/blob/master/tutoriais/02_tutorial_numpy_1_6.ipynb) e [*np.arrange*](https://github.com/lrittner/Computacao-Visual/blob/master/tutoriais/02_tutorial_numpy_1_1.ipynb) para realizar as operações e obter os valores que comporão a matriz X.\n",
        "\n",
        "Teste a função com os valores **m=5** e **n=4**."
      ]
    },
    {
      "cell_type": "code",
      "execution_count": null,
      "metadata": {
        "id": "qX8f43wIy9iq"
      },
      "outputs": [],
      "source": [
        "# Seu código aqui"
      ]
    },
    {
      "cell_type": "markdown",
      "metadata": {
        "id": "KB8fyJwRUi4y"
      },
      "source": [
        "## Parte 3 - Imagens sinteticas"
      ]
    },
    {
      "cell_type": "markdown",
      "metadata": {
        "id": "c_NCzACp1qkY"
      },
      "source": [
        "Veja um exemplo de criação de uma imagem sintética com Numpy e como visualizá-la com o matplotlib.pyplot:\n"
      ]
    },
    {
      "cell_type": "code",
      "execution_count": null,
      "metadata": {
        "colab": {
          "base_uri": "https://localhost:8080/",
          "height": 285
        },
        "id": "Ng_kDFFR1qEA",
        "outputId": "5cc6e8cc-4e22-4513-b8dc-5fb1b7b86481"
      },
      "outputs": [
        {
          "data": {
            "text/plain": [
              "<matplotlib.image.AxesImage at 0x21251369250>"
            ]
          },
          "execution_count": 17,
          "metadata": {},
          "output_type": "execute_result"
        },
        {
          "data": {
            "image/png": "[encoded data removed]",
            "text/plain": [
              "<Figure size 300x300 with 1 Axes>"
            ]
          },
          "metadata": {},
          "output_type": "display_data"
        }
      ],
      "source": [
        "# Criação de um quadrado cinza com dimensões 100 x 100\n",
        "array = np.zeros([100, 100], dtype=np.uint8)\n",
        "array[:,:] = [100]\n",
        "plt.figure(figsize = (3,3))\n",
        "plt.imshow(array,vmin=0, vmax=255, cmap='gray')"
      ]
    },
    {
      "cell_type": "markdown",
      "metadata": {
        "id": "G74vgkCq2Fww"
      },
      "source": [
        "### Exercício 3.1"
      ]
    },
    {
      "cell_type": "markdown",
      "metadata": {
        "id": "UtFMNrlk59IU"
      },
      "source": [
        "**a)** Crie um retângulo de tamanho 100 x 200 que seja formado por dois quadrados, um cinza claro e um cinza escuro. Plote o resultado obtido e comente a metodologia utilizada."
      ]
    },
    {
      "cell_type": "code",
      "execution_count": null,
      "metadata": {
        "id": "DXLxgPHp580i"
      },
      "outputs": [],
      "source": [
        "# Seu código aqui"
      ]
    },
    {
      "cell_type": "markdown",
      "metadata": {
        "id": "w8M4gfD12gpi"
      },
      "source": [
        "**b)** Utilizando a imagem anterior (retângulo criado), efetue a inserção de um quadrado cinza claro no meio do quadrado cinza escuro e de um quadrado cinza escuro no meio do quadrado cinza claro. Plote o resultado obtido e comente a metodologia utilizada."
      ]
    },
    {
      "cell_type": "code",
      "execution_count": null,
      "metadata": {
        "id": "W47Rdz6k20Rk"
      },
      "outputs": [],
      "source": [
        "# Seu código aqui"
      ]
    },
    {
      "cell_type": "markdown",
      "metadata": {
        "id": "46syqzIg59gz"
      },
      "source": [
        "### Exercício 3.2"
      ]
    },
    {
      "cell_type": "markdown",
      "metadata": {
        "collapsed": true,
        "id": "4CFqWZAaUi4z"
      },
      "source": [
        "Baseando-se no tutorial sobre as funções [indices e meshgrid](https://github.com/lrittner/Computacao-Visual/blob/master/tutoriais/02_tutorial_numpy_1_6.ipynb), crie as seguintes imagens sintéticas, plotando o resultado e comentando os métodos utilizados.\n",
        "\n",
        "**a)** Tabuleiro de xadrez;\n"
      ]
    },
    {
      "cell_type": "code",
      "execution_count": null,
      "metadata": {
        "id": "g_INUD2FUi4z"
      },
      "outputs": [],
      "source": [
        "# Seu código aqui"
      ]
    },
    {
      "cell_type": "markdown",
      "metadata": {
        "id": "R9YXSfIn69BT"
      },
      "source": [
        "**b)** Função parabólica dada pela soma do quadrado de suas coordenadas;"
      ]
    },
    {
      "cell_type": "code",
      "execution_count": null,
      "metadata": {
        "id": "LLIaMUvq7AFv"
      },
      "outputs": [],
      "source": [
        "# Seu código aqui"
      ]
    },
    {
      "cell_type": "markdown",
      "metadata": {
        "id": "T3sM-6Vm6sBD"
      },
      "source": [
        "**c)** Círculo de raio 40, com centro em (0,0);"
      ]
    },
    {
      "cell_type": "code",
      "execution_count": null,
      "metadata": {
        "id": "gU3PvfW76WPF"
      },
      "outputs": [],
      "source": [
        "# Seu código aqui"
      ]
    },
    {
      "cell_type": "markdown",
      "metadata": {
        "id": "yJDCwVDbnggD"
      },
      "source": [
        "## Parte 4 - Manipulando imagens com PIL e Numpy"
      ]
    },
    {
      "cell_type": "markdown",
      "metadata": {
        "id": "_vFdIne5nnea"
      },
      "source": [
        "É possível carregar imagens utilizando **PIL.Image** e convertê-las para um array do Numpy. Para mais informações sobre manipulação e visualização de imagens com PIL, Numpy e Matplotlib, leia o tutorial disponível em [\"Lendo e Visualizando Imagens\"](https://github.com/lrittner/Computacao-Visual/blob/master/tutoriais/03_Lendo_e_Visualizando_Imagens.ipynb).\n",
        "\n",
        "Adicione a pasta compartilhada do drive (indicada na descrição do exercício no classroom) como atalho ao seu Google Drive para que seja capaz de abrir a imagem abaixo (clicar sobre o nome da pasta, ir em \"Organizar\" e \"Adicionar atalho\"; na janela que aparecer, selecione \"Todos os locais\", \"Meu Drive\" e clique em \"Adicionar\").\n",
        "\n",
        "Obs.: se encontrar dificuldades na utilização do Google Colaboratory, verifique a parte final deste NB \"Dicas: Utilizando o Colab\"."
      ]
    },
    {
      "cell_type": "code",
      "execution_count": null,
      "metadata": {
        "id": "vjeJFtr4n72E"
      },
      "outputs": [],
      "source": [
        "# Definindo o nome da pasta compartilhada\n",
        "# IMPORTANTE: substitua \"NOME_DA_PASTA_COMPARTILHADA\" abaixo pelo nome correspondente\n",
        "pasta = \"NOME_DA_PASTA_COMPARTILHADA\"\n",
        "path = f\"gdrive/MyDrive/{pasta}/Dados/Ex01/arco-iris-duplo.jpg\"\n",
        "\n",
        "img = Image.open(path)"
      ]
    },
    {
      "cell_type": "markdown",
      "metadata": {
        "id": "9xYtSKP-oAFi"
      },
      "source": [
        "### Exercício 4.1"
      ]
    },
    {
      "cell_type": "markdown",
      "metadata": {
        "id": "gSNa5nd8oEXA"
      },
      "source": [
        "Converta a imagem **img** para um array do numpy, printe o número de dimensões da imagem, seu shape e seu dtype. Comente os métodos utilizados."
      ]
    },
    {
      "cell_type": "code",
      "execution_count": null,
      "metadata": {
        "id": "9AaLCnDAoLTZ"
      },
      "outputs": [],
      "source": [
        "# Seu código aqui"
      ]
    },
    {
      "cell_type": "markdown",
      "metadata": {
        "id": "Lbt0s6jXoV3t"
      },
      "source": [
        "### Exercício 4.2"
      ]
    },
    {
      "cell_type": "markdown",
      "metadata": {
        "id": "5A48Eku_oa4C"
      },
      "source": [
        "Visualize a imagem anterior com um tamanho 2 x 2. Comente o seu código utilizando a documentação oficial."
      ]
    },
    {
      "cell_type": "code",
      "execution_count": null,
      "metadata": {
        "id": "A9CO2EIRogfr"
      },
      "outputs": [],
      "source": [
        "# Seu código aqui"
      ]
    },
    {
      "cell_type": "markdown",
      "metadata": {
        "id": "2qdeBsmTpPxu"
      },
      "source": [
        "### Exercício 4.3"
      ]
    },
    {
      "cell_type": "markdown",
      "metadata": {
        "id": "QARxjMKmouK7"
      },
      "source": [
        "Selecione e visualize apenas uma região da imagem, usando o slicing do Numpy. Comente os métodos utilizados."
      ]
    },
    {
      "cell_type": "code",
      "execution_count": null,
      "metadata": {
        "id": "IvKlJR19pZWP"
      },
      "outputs": [],
      "source": [
        "# Seu código aqui"
      ]
    },
    {
      "cell_type": "markdown",
      "metadata": {
        "id": "VB-j8qsH9h5n"
      },
      "source": [
        "## Parte 5 - Geração automática de imagens sintéticas e manipulação de arquivos (opicional para EA979)"
      ]
    },
    {
      "cell_type": "markdown",
      "metadata": {
        "id": "y4pBC0aI9h5n"
      },
      "source": [
        "### Exercício 5.1"
      ]
    },
    {
      "cell_type": "markdown",
      "metadata": {
        "id": "mtRVZ8jH9h5n"
      },
      "source": [
        "**a)** Quando geramos imagens sintéticas, estamos interessados em criar um conjunto de imagens com algumas características pré-definidas, mas com certa variabilidade. Para exemplificar esse processo, vamos automatizar a criação dos quadrados do exercício 3.1.\n",
        "\n",
        "Crie uma função que tenha como entradas:\n",
        "- Inteiro **n** que corresponde ao número de imagens a serem criadas;\n",
        "- Inteiro **h** que corresponde à \"altura\" de cada imagem (com \"largura\" 2\\***h**);\n",
        "\n",
        "e que retorne:\n",
        "- Um array **I** de shape (n, h, 2\\*h, 3), em que cada **I**[n] corresponda a uma imagem similar à imagem gerada no exercício 3.1.b), mas colorida.\n",
        "\n",
        "A ideia é que a função crie um conjunto de **n** imagens, todas com os \"quadrados menores\" aproximadamente centralizados nos \"quadrados maiores\". O tamanho dos \"quadrados menores\" deve ser igual para todas as imagens do conjunto e definido de forma aleatória. As duas cores utilizadas devem variar para cada imagem e também são definidas aleatoriamente.\n",
        "\n",
        "Você deve definir certos limites para garantir que a geração das imagens faça sentido: qual a altura mínima das imagens? qual o tamanho mínimo dos quadrados menores? qual a distância mínima entre as bordas dos quadrados menor/maior (para que um não se sobreponha ao outro)?\n",
        "\n",
        "Teste a função com diferentes valores de entrada, tentando sempre plotar as imagens de cada conjunto gerado em um único plot. Comente sobre as decisões tomadas na criação da função (como os limites que foram definidos) e seu comportamento esperado (como a centralização dos quadrados menores em relação às dimensões da imagem)."
      ]
    },
    {
      "cell_type": "code",
      "execution_count": null,
      "metadata": {
        "id": "FTvFatk29h5n"
      },
      "outputs": [],
      "source": [
        "# Seu código aqui"
      ]
    },
    {
      "cell_type": "markdown",
      "metadata": {
        "id": "8sI6406a9h5n"
      },
      "source": [
        "**b)** Conjuntos de imagens podem ser armazenados em diferentes formatos e arquivos. Em especial, arquivos *.npz* são capazes de armazenar diversos arrays, organizados de modo semelhante a um dicionário. Como este tipo de arquivo será utilizado novamente em exercícios futuros, vamos treinar sua manipulação.\n",
        "\n",
        "Utilizando a função do item anterior, crie 4 conjuntos de imagens (**A**, **B**, **C** e **D**) com 10 imagens cada e diferentes valores de **h**. Utilize a função [savez](https://numpy.org/doc/stable/reference/generated/numpy.savez.html) para salvar os 4 arrays em um único arquivo *.npz*, mantendo os nomes dos arrays (**A**, **B**, **C** e **D**). Em seguida, abra o arquivo gerado, imprima os nomes dos arrays armazenados e plote uma imagem de cada conjunto (selecionada aleatoriamente) em um único plot. Comente os métodos utilizados.\n",
        "\n",
        "Obs.: se encontrar dificuldades na utilização do Google Colaboratory, verifique a parte final deste NB \"Dicas: Utilizando o Colab\"."
      ]
    },
    {
      "cell_type": "code",
      "execution_count": null,
      "metadata": {
        "id": "3BFM6h4o9h5n"
      },
      "outputs": [],
      "source": [
        "# Seu código aqui"
      ]
    },
    {
      "cell_type": "markdown",
      "metadata": {
        "id": "STKMuW0u9h5o"
      },
      "source": [
        "## Parte 6 - Extraindo dados de uma imagem para detecção de objetos (opicional para EA979)"
      ]
    },
    {
      "cell_type": "markdown",
      "metadata": {
        "id": "di7hRQv99h5o"
      },
      "source": [
        "### Exercício 6.1"
      ]
    },
    {
      "cell_type": "markdown",
      "metadata": {
        "id": "QoKpOUmT9h5o"
      },
      "source": [
        "Existem diversas funções que calculam dados [matemáticos](https://numpy.org/doc/stable/reference/routines.math.html) e [estatísticos](https://numpy.org/doc/stable/reference/routines.statistics.html) de um array. Esses dados podem ser muito úteis para diversas aplicações em imagens, como na detecção das teclas de uma calculadora, exemplificada neste exercício.\n",
        "\n",
        "**a)** Carregue e plote a imagem \"keyb.tif\", que está no diretório **\"PASTA_COMPARTILHADA\"/Dados/Ex01**. Em seguida, extraia dados ao longo das linhas e colunas da imagem (como [mean](https://numpy.org/doc/stable/reference/generated/numpy.mean.html), [max](https://numpy.org/doc/stable/reference/generated/numpy.max.html) e [min](https://numpy.org/doc/stable/reference/generated/numpy.min.html)) e plote gráficos dos valores obtidos. Comente os métodos utilizados e os resultados obtidos."
      ]
    },
    {
      "cell_type": "code",
      "execution_count": null,
      "metadata": {
        "id": "LSQ_Dzjj9h5o"
      },
      "outputs": [],
      "source": [
        "# Seu código aqui"
      ]
    },
    {
      "cell_type": "markdown",
      "metadata": {
        "id": "VF9i5jKg9h5o"
      },
      "source": [
        "**b)** Utilize os dados extraídos no item anterior para localizar as teclas da calculadora. Plote linhas vermelhas horizontais e verticais sobre a imagem original, passando aproximadamente no meio das teclas. Comente os métodos utilizados."
      ]
    },
    {
      "cell_type": "code",
      "execution_count": null,
      "metadata": {
        "id": "LSepeu7Q9h5o"
      },
      "outputs": [],
      "source": [
        "# Seu código aqui"
      ]
    },
    {
      "cell_type": "markdown",
      "metadata": {
        "id": "_6ZCPSqA9h5o"
      },
      "source": [
        "**c)** Agora, plote sobre a imagem original um *bounding box* ao redor de cada tecla localizada. Cada *bounding box* deve ser um retângulo vermelho definindo as bordas da tecla. Comente os métodos utilizados."
      ]
    },
    {
      "cell_type": "code",
      "execution_count": null,
      "metadata": {
        "id": "ZsKWkLvL9h5o"
      },
      "outputs": [],
      "source": [
        "# Seu código aqui"
      ]
    },
    {
      "cell_type": "markdown",
      "metadata": {
        "collapsed": true,
        "id": "gU9455qnUi4x"
      },
      "source": [
        "# Dicas: Utilizando o Colab\n",
        "\n",
        "O Google Colaboratory (Colab) permite a execução de Jupyter Notebooks na nuvem, através de navegadores, sem a necessidade de instalação do Jupyter na máquina. Nesta disciplina, os tutoriais e exercícios serão realizados na forma de Jupyter Notebooks através do Colab."
      ]
    },
    {
      "cell_type": "markdown",
      "metadata": {
        "id": "LY4t5ltzZbE3"
      },
      "source": [
        "## Conectividade do Colab\n",
        "\n",
        "O Colab informa que pode ficar conectado por até 12 horas. Porém, esse período varia de acordo com a utilização do Notebook e a iteratividade do código. Em alguns casos, após muito tempo de execução, a conta do Colab pode ficar limitada para utilização. Nestes casos, aconselha-se compartilhar o Notebook através do botão \"Compartilhar\" no canto superior direito, e executá-lo com outra conta do Google."
      ]
    },
    {
      "cell_type": "markdown",
      "metadata": {
        "id": "60WI3Xl1Ui4x"
      },
      "source": [
        "## Inserindo novas células\n",
        "\n",
        "O Colab permite a inserção de células de código ou texto. As células de código podem executar comandos em Python ou shell bash (comandos para terminal Linux). As células de texto permitem a inserção de dados em texto, links, tópicos e imagens.\n",
        "\n",
        "Para inserir uma nova célula, posicione o mouse entre duas células e clique no tipo da célula desejada (Código ou Texto):\n",
        "\n",
        "![imagem_2023-02-02_112708896.png](data:image/png;base64,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)\n",
        "\n",
        "Também é possível inserir novas células de código com os comandos \"Ctrl+M B\".\n",
        "\n",
        "As células podem ter sua ordem de execução alterada se forem pressionadas e \"arrastadas\". Além disso, a mudança de ordem pode ser efetuada pelas setas na figura a seguir, ou com os comandos \"Ctrl+M K\" (mover para cima) ou \"Ctrl+M J\" (Mover para baixo).\n",
        "\n",
        "![image.png](data:image/png;base64,iVBORw0KGgoAAAANSUhEUgAAADwAAAAqCAYAAADvczj0AAAABHNCSVQICAgIfAhkiAAAABl0RVh0U29mdHdhcmUAZ25vbWUtc2NyZWVuc2hvdO8Dvz4AAAAtdEVYdENyZWF0aW9uIFRpbWUAVGh1IDAyIEZlYiAyMDIzIDA0OjAxOjA4IFBNIC0wMx+tw6kAAAJMSURBVGiB7ZpPjoIwFId/rWgCGyWSuIKtZ2LrIeQOXIQrsRWWmmhETeRfZzEpAsMgMqjQ8UsaEyHlfbxa+oqEMcbwj6DvDuDVfIRF5yMsOlLVlyJP3AXhvKio0pkwF2SMZa18TAQkoChZ1fIMXV4qZzZNU1BKIUkSCCFvDq97KHCTTZIEhBBhZYGScBzHkKTKiVsYaH4oR1EkbGY5ND+coyh6dzxPJ1tp8Sw/yuVygW3b8Dyv08CqcF0Xq9UKruu27iP7Dec/m8JlXdd9mfRfoXXP3DrKmX1lpv9CYdJqKszlttstTNMEAJimCcZY76UfznBe1rIs6LoOANB1HZZl9V6apmkK3u4Jl2UNwygcNwyjM2nP87Ber+/20fQ8zsMZlmW5UpbDpXVdh6ZpjYKoQtM0yLJce+M8z4Nt2zifz437pXEcI9/qUBSlVpbDpRVFaRzIb9eaz+eV0lyWMdYoJg4NwxBhGCKKot4tPMrSvu8DAHzfbyULAFRVVaiqitlshul0+qzYW5OXdhwHAOA4TitZYCB7WlyaPxHuzSN1ZMJ9Lxq49HK5bC0LACRJEsYLhyAIsFgsOg61X1Dglt2+Z7kLfgzpNhXTkCgIU0pxPB7fGc/ToYQQ8DYajbDf77Hb7e4uQoYKSdOU8R2P6/WKIAhwOByw2WxwOp0eqqKGgATchvN4PIaiKCCEYDKZII7jh+vkvkPYN1lNnCRJtq7mVVSeocsT/peH/DZPWXToknkyYeB/vEwrCHNElQV+eT8s8oprENVSl3yERecL+CX+lbRL4o4AAAAASUVORK5CYII=)"
      ]
    },
    {
      "cell_type": "markdown",
      "metadata": {
        "id": "4yfq2NMkhYij"
      },
      "source": [
        "## Executando células de código\n",
        "\n",
        "As células de código podem ser executadas clicando no ícone \"Play\", ao lado esquerdo da célula, ou através dos comandos \"Shift+Enter\" ou \"Ctrl+Enter\". Após a execução da célula, o índice de execução ficará entre os colchetes [ ].\n",
        "\n",
        "Também é possível:\n",
        "1.   Executar todas as células: Ambiente de Execução > Executar tudo (ou utilizando Ctrl+F9);\n",
        "2.   Executar todas as células após a célula em que está o cursor: Ambiente de Execução > Executar após (ou utilizando Ctrl+F10);\n",
        "3.   Executar todas as células antes da célula em que está o cursor: Ambiente de Execução > Executar antes (ou utilizando Ctrl+F8);\n",
        "\n",
        "No caso da execução correta, um ícone de ok estará ao lado esquerdo.\n",
        "\n",
        "No caso de erros, um ponto de exclamação aparecerá no lado esquerdo e o erro será detalhado abaixo da célula. A execução é interrompida com o erro."
      ]
    },
    {
      "cell_type": "code",
      "execution_count": null,
      "metadata": {
        "colab": {
          "base_uri": "https://localhost:8080/"
        },
        "id": "msTNHMqThysV",
        "outputId": "620809df-08d8-42e0-8d23-1a3311c2bf51"
      },
      "outputs": [
        {
          "name": "stdout",
          "output_type": "stream",
          "text": [
            "Exemplo de execução\n"
          ]
        }
      ],
      "source": [
        "print(\"Exemplo de execução\")"
      ]
    },
    {
      "cell_type": "code",
      "execution_count": null,
      "metadata": {
        "colab": {
          "base_uri": "https://localhost:8080/",
          "height": 165
        },
        "id": "9sGn1tBZhzWi",
        "outputId": "507b7d24-ee9c-460a-eda2-4131396bc87f"
      },
      "outputs": [
        {
          "ename": "NameError",
          "evalue": "ignored",
          "output_type": "error",
          "traceback": [
            "\u001b[0;31m---------------------------------------------------------------------------\u001b[0m",
            "\u001b[0;31mNameError\u001b[0m                                 Traceback (most recent call last)",
            "\u001b[0;32m<ipython-input-28-deb6e9f60348>\u001b[0m in \u001b[0;36m<module>\u001b[0;34m\u001b[0m\n\u001b[0;32m----> 1\u001b[0;31m \u001b[0mprint\u001b[0m\u001b[0;34m(\u001b[0m\u001b[0;34mf\"Exemplo de erro de execução (variável não declarada): {m}\"\u001b[0m\u001b[0;34m)\u001b[0m\u001b[0;34m\u001b[0m\u001b[0;34m\u001b[0m\u001b[0m\n\u001b[0m",
            "\u001b[0;31mNameError\u001b[0m: name 'm' is not defined"
          ]
        }
      ],
      "source": [
        "print(f\"Exemplo de erro de execução (variável não declarada): {m}\")"
      ]
    },
    {
      "cell_type": "markdown",
      "metadata": {
        "id": "-G11ytwzbMID"
      },
      "source": [
        "Para execução de comandos shell bash, utiliza-se o sinal \"!\" antes do código.\n",
        "\n",
        "Abaixo, seguem exemplos para:\n",
        "\n",
        "1.   Listar os arquivos do diretório atual\n",
        "2.   Printar o caminho do diretório atual\n",
        "3. Printar as configurações da GPU utilizada (é necessário estar com GPU habilitada: Ambiente de Execução > Alterar o tipo do ambiente de execução > Acelerador de Hardware)."
      ]
    },
    {
      "cell_type": "code",
      "execution_count": null,
      "metadata": {
        "colab": {
          "base_uri": "https://localhost:8080/"
        },
        "id": "kv80kU7Xbvpl",
        "outputId": "89e8e4dd-1a48-4a19-e6f4-6f093729437b"
      },
      "outputs": [
        {
          "name": "stdout",
          "output_type": "stream",
          "text": [
            "gdrive\tsample_data\n"
          ]
        }
      ],
      "source": [
        "!ls"
      ]
    },
    {
      "cell_type": "code",
      "execution_count": null,
      "metadata": {
        "colab": {
          "base_uri": "https://localhost:8080/"
        },
        "id": "-Z0__P2nbwn9",
        "outputId": "3a0db3bb-fac0-4c62-d1be-830b794c4dcb"
      },
      "outputs": [
        {
          "name": "stdout",
          "output_type": "stream",
          "text": [
            "/content\n"
          ]
        }
      ],
      "source": [
        "!pwd"
      ]
    },
    {
      "cell_type": "code",
      "execution_count": null,
      "metadata": {
        "colab": {
          "base_uri": "https://localhost:8080/"
        },
        "id": "zpf0BnBsb3Dz",
        "outputId": "d3395fcd-112d-4791-8f37-aff48600928e"
      },
      "outputs": [
        {
          "name": "stdout",
          "output_type": "stream",
          "text": [
            "NVIDIA-SMI has failed because it couldn't communicate with the NVIDIA driver. Make sure that the latest NVIDIA driver is installed and running.\n",
            "\n"
          ]
        }
      ],
      "source": [
        "!nvidia-smi\n"
      ]
    },
    {
      "cell_type": "markdown",
      "metadata": {
        "id": "xcEtElqnatCq"
      },
      "source": [
        "## Utilizando Colab com o Google Drive\n",
        "\n",
        "O Colab permite o vínculo de uma conta no Google Drive para carregar ou salvar arquivos. É necessário importar o pacote drive do colab e montá-lo, como segue. Na primeira execução após a conexão do notebook, será necessário realizar a autenticação na conta e permitir a conexão do colab com o drive.\n",
        "\n",
        "Por padrão, os notebooks gerados pelo colab são salvos na pasta 'Colab Notebooks', no Drive. Porém, é possível alterar o local onde o notebook será salvo.\n",
        "\n",
        "É possível verificar os arquivos na pasta de trabalho utilizando o comando shell bash \"ls\". Também é possível alterar a pasta de trabalho atual com o comando \"cd\". Exercite a execução destes comandos utilizando seu Google Drive."
      ]
    },
    {
      "cell_type": "code",
      "execution_count": null,
      "metadata": {
        "colab": {
          "base_uri": "https://localhost:8080/"
        },
        "id": "VVMjB3wshY5L",
        "outputId": "c6976c7b-3bd8-476e-c36b-e40dd44d0b9b"
      },
      "outputs": [
        {
          "name": "stdout",
          "output_type": "stream",
          "text": [
            "Drive already mounted at /content/gdrive; to attempt to forcibly remount, call drive.mount(\"/content/gdrive\", force_remount=True).\n"
          ]
        }
      ],
      "source": [
        "from google.colab import drive\n",
        "drive.mount('/content/gdrive')"
      ]
    },
    {
      "cell_type": "markdown",
      "metadata": {
        "id": "7LPGJJI9gxlo"
      },
      "source": [
        "## Utilizando arquivos compartilhados\n",
        "\n",
        "O Colab permite apenas que sejam utilizados arquivos do Drive da própria conta, ou de drives compartilhados. Para se utilizar arquivos ou pastas compartilhados, pode-se adicionar um atalho à própria conta do Drive.\n",
        "\n",
        "Adicione um atalho ao seu Google Drive da pasta compartilhada (indicada na descrição do exercício no classroom). Liste os arquivos que estão contidos na pasta \"Dados/Ex01\" utilizando a função **os.listdir**."
      ]
    },
    {
      "cell_type": "code",
      "execution_count": null,
      "metadata": {
        "colab": {
          "base_uri": "https://localhost:8080/"
        },
        "id": "GQ2B8nKpMY8c",
        "outputId": "0008c43b-8d0a-425b-ffb0-da41dd9eefb2"
      },
      "outputs": [
        {
          "ename": "FileNotFoundError",
          "evalue": "[WinError 3] O sistema não pode encontrar o caminho especificado: 'gdrive/MyDrive/NOME_DA_PASTA/Dados/Ex01'",
          "output_type": "error",
          "traceback": [
            "\u001b[1;31m---------------------------------------------------------------------------\u001b[0m",
            "\u001b[1;31mFileNotFoundError\u001b[0m                         Traceback (most recent call last)",
            "Cell \u001b[1;32mIn[4], line 3\u001b[0m\n\u001b[0;32m      1\u001b[0m \u001b[38;5;28;01mimport\u001b[39;00m \u001b[38;5;21;01mos\u001b[39;00m\n\u001b[0;32m      2\u001b[0m \u001b[38;5;66;03m#IMPORTANTE: substitua \"NOME_DA_PASTA\" abaixo pelo nome correspondente\u001b[39;00m\n\u001b[1;32m----> 3\u001b[0m list_files \u001b[38;5;241m=\u001b[39m \u001b[43mos\u001b[49m\u001b[38;5;241;43m.\u001b[39;49m\u001b[43mlistdir\u001b[49m\u001b[43m(\u001b[49m\u001b[38;5;124;43m\"\u001b[39;49m\u001b[38;5;124;43mgdrive/MyDrive/NOME_DA_PASTA/Dados/Ex01\u001b[39;49m\u001b[38;5;124;43m\"\u001b[39;49m\u001b[43m)\u001b[49m\n\u001b[0;32m      4\u001b[0m \u001b[38;5;28;01mfor\u001b[39;00m file \u001b[38;5;129;01min\u001b[39;00m list_files:\n\u001b[0;32m      5\u001b[0m   \u001b[38;5;28mprint\u001b[39m(file)\n",
            "\u001b[1;31mFileNotFoundError\u001b[0m: [WinError 3] O sistema não pode encontrar o caminho especificado: 'gdrive/MyDrive/NOME_DA_PASTA/Dados/Ex01'"
          ]
        }
      ],
      "source": [
        "import os\n",
        "#IMPORTANTE: substitua \"NOME_DA_PASTA_COMPARTILHADA\" abaixo pelo nome correspondente\n",
        "list_files = os.listdir(\"gdrive/MyDrive/NOME_DA_PASTA_COMPARTILHADA/Dados/Ex01\")\n",
        "for file in list_files:\n",
        "  print(file)"
      ]
    },
    {
      "cell_type": "markdown",
      "metadata": {
        "id": "dcIlGzopQlAy"
      },
      "source": [
        "### Salvando arquivos no Drive"
      ]
    },
    {
      "cell_type": "markdown",
      "metadata": {
        "id": "oNEB9mfb46iw"
      },
      "source": [
        "Um arquivo, como uma imagem PIL.Image, pode ser salvo com o método save. No entanto, o path deve existir.\n",
        "\n",
        "OBS: um path pode ser criado via shell bash com **!mkdir -p path**.\n",
        "O -p promove a criação de subdiretórios que ainda não existem."
      ]
    },
    {
      "cell_type": "code",
      "execution_count": null,
      "metadata": {
        "id": "mhSIvVKA9h5q"
      },
      "outputs": [],
      "source": [
        "from PIL import Image\n",
        "import numpy as np\n",
        "!mkdir -p gdrive/MyDrive/'Colab Notebooks'/'Processamento de Imagens'/Ex01\n",
        "#IMPORTANTE: substitua \"NOME_DA_PASTA_COMPARTILHADA\" abaixo pelo nome correspondente\n",
        "path_img = \"gdrive/MyDrive/NOME_DA_PASTA_COMPARTILHADA/Dados/Ex01/arco-iris-duplo.jpg\"\n",
        "path_save = \"gdrive/MyDrive/Colab Notebooks/Processamento de Imagens/Ex01/Ex1_arco_iris.png\"\n",
        "pil_img = Image.fromarray(np.array(Image.open(path_img)))\n",
        "pil_img.save(path_save)"
      ]
    },
    {
      "cell_type": "markdown",
      "metadata": {
        "id": "mmVLAS3A8XZu"
      },
      "source": [
        "## Snipets de código\n",
        "\n",
        "O Colab fornece vários códigos prontos em Ajuda > Pesquisar snipets de código. Os snipets também são acessíveis através dos comandos Ctrl+Alt+P.\n"
      ]
    }
  ],
  "metadata": {
    "colab": {
      "provenance": []
    },
    "kernelspec": {
      "display_name": "Python 3",
      "language": "python",
      "name": "python3"
    },
    "language_info": {
      "codemirror_mode": {
        "name": "ipython",
        "version": 3
      },
      "file_extension": ".py",
      "mimetype": "text/x-python",
      "name": "python",
      "nbconvert_exporter": "python",
      "pygments_lexer": "ipython3",
      "version": "3.11.6"
    }
  },
  "nbformat": 4,
  "nbformat_minor": 0
}